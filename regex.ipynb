{
 "cells": [
  {
   "cell_type": "markdown",
   "metadata": {},
   "source": [
    "# Questão 1"
   ]
  },
  {
   "cell_type": "code",
   "execution_count": 71,
   "metadata": {},
   "outputs": [],
   "source": [
    "import re\n",
    "from collections.abc import Callable\n",
    "\n",
    "def testa_regex(\n",
    "    expressao: str,\n",
    "    aceitos: list[str],\n",
    "    rejeitados: list[str],\n",
    "    condicao_adicional: Callable[[str], bool] = lambda c: True,\n",
    "    imprimir=True,\n",
    ") -> bool:\n",
    "    # str -> cadeia. bool -> resultado esperado. bool -> resultado atual\n",
    "    resultados_validos: list[tuple[str, bool, bool]] = []\n",
    "    resultados_invalidos: list[tuple[str, bool, bool]] = []\n",
    "\n",
    "    for cadeia in aceitos:\n",
    "        aceito: bool = re.fullmatch(\n",
    "            expressao, cadeia\n",
    "        ) is not None and condicao_adicional(cadeia)\n",
    "        if aceito:\n",
    "            resultados_validos.append((cadeia, True, aceito))\n",
    "        else:\n",
    "            resultados_invalidos.append((cadeia, True, aceito))\n",
    "\n",
    "    for cadeia in rejeitados:\n",
    "        aceito: bool = re.fullmatch(\n",
    "            expressao, cadeia\n",
    "        ) is not None and condicao_adicional(cadeia)\n",
    "        if not aceito:\n",
    "            resultados_validos.append((cadeia, False, aceito))\n",
    "        else:\n",
    "            resultados_invalidos.append((cadeia, False, aceito))\n",
    "\n",
    "    if resultados_validos and imprimir:\n",
    "        print(\"-\" * 15)\n",
    "        print(\"Casos válidos:\")\n",
    "        for resultado in resultados_validos:\n",
    "            cadeia: str = resultado[0]\n",
    "            esperado: str = \"aceito\" if resultado[1] else \"rejeitado\"\n",
    "            atual: str = \"aceito\" if resultado[2] else \"rejeitado\"\n",
    "\n",
    "            print(f'Cadeia \"{cadeia}\" deve ser {esperado}. Foi {atual}')\n",
    "\n",
    "    if resultados_invalidos and imprimir:\n",
    "        print(\"\\n\" + \"-\" * 15)\n",
    "        print(\"Casos inválidos:\")\n",
    "        for resultado in resultados_invalidos:\n",
    "            cadeia: str = resultado[0]\n",
    "            esperado: str = \"aceito\" if resultado[1] else \"rejeitado\"\n",
    "            atual: str = \"aceito\" if resultado[2] else \"rejeitado\"\n",
    "\n",
    "            print(f'Cadeia \"{cadeia}\" deve ser {esperado}. Foi {atual}')\n",
    "\n",
    "    expressao_valida = len(resultados_invalidos) == 0\n",
    "    if imprimir:\n",
    "        print(\"\\nExpressão \" + (\"válida\" if expressao_valida else \"inválida\"))\n",
    "    return expressao_valida"
   ]
  },
  {
   "cell_type": "markdown",
   "metadata": {},
   "source": [
    "Considere os seguintes alfabetos Σ = {a, b, c, …, z}, Γ = {A, B, C, …, Z} e N = {0,\n",
    "1, 2, …, 9}."
   ]
  },
  {
   "cell_type": "markdown",
   "metadata": {},
   "source": [
    "• Nome, nome do meio e sobrenome:\n",
    "1. Nome, nome do meio e sobrenome devem vir separados por um espaço apenas\n",
    "2. O nome do meio é opcional\n",
    "3. Nome e sobrenome devem ser ambos não vazios\n",
    "4. Não deve aceitar caracteres especiais ou números\n",
    "5. O primeiro símbolo do nome e sobrenome, e do nome do meio se existir, deve ser\n",
    "do alfabeto Γ e os outros símbolos devem ser do alfabeto Σ\n",
    "\n",
    "Ex. de sentenças aceitas: Ada Lovelace, Alan Turing, Stephen Cole Kleene\n",
    "\n",
    "Ex. de cadeias rejeitadas: 1Alan, Alan, A1an, A1an Turing, Alan turing\n"
   ]
  },
  {
   "cell_type": "code",
   "execution_count": 72,
   "metadata": {},
   "outputs": [
    {
     "name": "stdout",
     "output_type": "stream",
     "text": [
      "---------------\n",
      "Casos válidos:\n",
      "Cadeia \"Ada Lovelace\" deve ser aceito. Foi aceito\n",
      "Cadeia \"Alan Turing\" deve ser aceito. Foi aceito\n",
      "Cadeia \"Stephen Cole Kleene\" deve ser aceito. Foi aceito\n",
      "Cadeia \"Carlos Vitor\" deve ser aceito. Foi aceito\n",
      "Cadeia \"Joao Pedro\" deve ser aceito. Foi aceito\n",
      "Cadeia \"Virgilo Neto\" deve ser aceito. Foi aceito\n",
      "Cadeia \"Ze Jo\" deve ser aceito. Foi aceito\n",
      "Cadeia \"1Alan\" deve ser rejeitado. Foi rejeitado\n",
      "Cadeia \"Alan\" deve ser rejeitado. Foi rejeitado\n",
      "Cadeia \"A1an\" deve ser rejeitado. Foi rejeitado\n",
      "Cadeia \"A1an Turing\" deve ser rejeitado. Foi rejeitado\n",
      "Cadeia \"Alan turing\" deve ser rejeitado. Foi rejeitado\n",
      "Cadeia \"Carlos ViTor\" deve ser rejeitado. Foi rejeitado\n",
      "Cadeia \"João Pedro\" deve ser rejeitado. Foi rejeitado\n",
      "\n",
      "Expressão válida\n"
     ]
    },
    {
     "data": {
      "text/plain": [
       "True"
      ]
     },
     "execution_count": 72,
     "metadata": {},
     "output_type": "execute_result"
    }
   ],
   "source": [
    "regex = r\"([A-Z][a-z]+\\s)+[A-Z][a-z]+\"\n",
    "\n",
    "aceitos = [\n",
    "    \"Ada Lovelace\",\n",
    "    \"Alan Turing\",\n",
    "    \"Stephen Cole Kleene\",\n",
    "    \"Carlos Vitor\",\n",
    "    \"Joao Pedro\",\n",
    "    \"Virgilo Neto\",\n",
    "    \"Ze Jo\",\n",
    "]\n",
    "\n",
    "rejeitados = [\n",
    "    \"1Alan\",\n",
    "    \"Alan\",\n",
    "    \"A1an\",\n",
    "    \"A1an Turing\",\n",
    "    \"Alan turing\",\n",
    "    \"Carlos ViTor\",\n",
    "    \"João Pedro\",\n",
    "]\n",
    "\n",
    "testa_regex(regex, aceitos, rejeitados)"
   ]
  },
  {
   "cell_type": "markdown",
   "metadata": {},
   "source": [
    "• E-mail:\n",
    "1. Sentenças devem conter um, e apenas um, símbolo “@”\n",
    "2. Excetuando o símbolo “@”, as sentenças possuem apenas símbolos de Σ\n",
    "3. Sentenças não devem começar com o símbolo “@”\n",
    "4. Sentenças devem terminar com a subcadeia “.com.br” ou “.br”\n",
    "5. Sentenças devem ter, pelo menos, um símbolo de Σ entre o símbolo “@” e a\n",
    "subcadeia “.com.br” ou a subcadeia “.br”\n",
    "\n",
    "Ex. de sentenças aceitas: a@a.br, divulga@ufpa.br, a@a.com.br\n",
    "\n",
    "Ex. de cadeias rejeitadas: @, a@.br, @a.br, T@teste.br, a@A.com.br"
   ]
  },
  {
   "cell_type": "code",
   "execution_count": 73,
   "metadata": {},
   "outputs": [
    {
     "name": "stdout",
     "output_type": "stream",
     "text": [
      "---------------\n",
      "Casos válidos:\n",
      "Cadeia \"a@a.br\" deve ser aceito. Foi aceito\n",
      "Cadeia \"divulga@ufpa.br\" deve ser aceito. Foi aceito\n",
      "Cadeia \"a@a.com.br\" deve ser aceito. Foi aceito\n",
      "Cadeia \"a@com.br\" deve ser aceito. Foi aceito\n",
      "Cadeia \"@\" deve ser rejeitado. Foi rejeitado\n",
      "Cadeia \"a@.br\" deve ser rejeitado. Foi rejeitado\n",
      "Cadeia \"@a.br\" deve ser rejeitado. Foi rejeitado\n",
      "Cadeia \"T@teste.br\" deve ser rejeitado. Foi rejeitado\n",
      "Cadeia \"a@A.com.br\" deve ser rejeitado. Foi rejeitado\n",
      "Cadeia \"_teste@A.br\" deve ser rejeitado. Foi rejeitado\n",
      "\n",
      "Expressão válida\n"
     ]
    },
    {
     "data": {
      "text/plain": [
       "True"
      ]
     },
     "execution_count": 73,
     "metadata": {},
     "output_type": "execute_result"
    }
   ],
   "source": [
    "regex = r\"[a-z]+\\@[a-z]+(\\.com)?\\.br\"\n",
    "\n",
    "aceitos = [\"a@a.br\", \"divulga@ufpa.br\", \"a@a.com.br\", \"a@com.br\"]\n",
    "rejeitados = [\"@\", \"a@.br\", \"@a.br\", \"T@teste.br\", \"a@A.com.br\", \"_teste@A.br\"]\n",
    "\n",
    "testa_regex(regex, aceitos, rejeitados)"
   ]
  },
  {
   "cell_type": "markdown",
   "metadata": {},
   "source": [
    "• Senha:\n",
    "1. Sentenças podem conter símbolos de Σ∪Γ∪N\n",
    "2. Sentenças devem ter pelo menos um símbolo de Γ e outro de N\n",
    "3. Sentenças devem ter comprimento igual a 8\n",
    "\n",
    "Ex. de sentenças aceitas: 518R2r5e, F123456A, 1234567T, ropsSoq0\n",
    "\n",
    "Ex. de cadeias rejeitadas: F1234567A, abcdefgH, 1234567HI\n",
    "\n",
    "Obs.: nesta linguagem é permido utilizar recursos da linguagem de programação (e.g., size,\n",
    "length ou lookahead) para descobrir se a cadeia tem comprimento 8."
   ]
  },
  {
   "cell_type": "code",
   "execution_count": 76,
   "metadata": {},
   "outputs": [
    {
     "name": "stdout",
     "output_type": "stream",
     "text": [
      "---------------\n",
      "Casos válidos:\n",
      "Cadeia \"518R2r5e\" deve ser aceito. Foi aceito\n",
      "Cadeia \"F123456A\" deve ser aceito. Foi aceito\n",
      "Cadeia \"1234567T\" deve ser aceito. Foi aceito\n",
      "Cadeia \"ropsSoq0\" deve ser aceito. Foi aceito\n",
      "Cadeia \"F1234567A\" deve ser rejeitado. Foi rejeitado\n",
      "Cadeia \"abcdefgH\" deve ser rejeitado. Foi rejeitado\n",
      "Cadeia \"1234567HI\" deve ser rejeitado. Foi rejeitado\n",
      "\n",
      "Expressão válida\n"
     ]
    },
    {
     "data": {
      "text/plain": [
       "True"
      ]
     },
     "execution_count": 76,
     "metadata": {},
     "output_type": "execute_result"
    }
   ],
   "source": [
    "regex = (\n",
    "    r\"([A-z0-9]*[A-Z][A-z0-9]*[0-9][A-z0-9]*)|([A-z0-9]*[0-9][A-z0-9]*[A-Z][A-z0-9]*)\"\n",
    ")\n",
    "aceitos = [\"518R2r5e\", \"F123456A\", \"1234567T\", \"ropsSoq0\"]\n",
    "rejeitados = [\"F1234567A\", \"abcdefgH\", \"1234567HI\"]\n",
    "testa_regex(regex, aceitos, rejeitados, condicao_adicional=lambda c: len(c) == 8)"
   ]
  },
  {
   "cell_type": "markdown",
   "metadata": {},
   "source": [
    "• CPF:\n",
    "1. Sentenças devem ter o formato xxx.xxx.xxx-xx, onde x N ∈\n",
    "\n",
    "Ex. de sentenças aceitas: 123.456.789-09, 000.000.000-00\n",
    "\n",
    "Ex. de cadeias rejeitadas: 123.456.789-0, 111.111.11-11"
   ]
  },
  {
   "cell_type": "code",
   "execution_count": 77,
   "metadata": {},
   "outputs": [
    {
     "name": "stdout",
     "output_type": "stream",
     "text": [
      "---------------\n",
      "Casos válidos:\n",
      "Cadeia \"123.456.789-09\" deve ser aceito. Foi aceito\n",
      "Cadeia \"000.000.000-00\" deve ser aceito. Foi aceito\n",
      "Cadeia \"123.456.789-0\" deve ser rejeitado. Foi rejeitado\n",
      "Cadeia \"111.111.11-11\" deve ser rejeitado. Foi rejeitado\n",
      "\n",
      "Expressão válida\n"
     ]
    },
    {
     "data": {
      "text/plain": [
       "True"
      ]
     },
     "execution_count": 77,
     "metadata": {},
     "output_type": "execute_result"
    }
   ],
   "source": [
    "regex = r\"\\d{3}\\.\\d{3}\\.\\d{3}-\\d{2}\"\n",
    "aceitos = [\"123.456.789-09\", \"000.000.000-00\"]\n",
    "rejeitados = [\"123.456.789-0\", \"111.111.11-11\"]\n",
    "testa_regex(regex, aceitos, rejeitados)"
   ]
  },
  {
   "cell_type": "markdown",
   "metadata": {},
   "source": [
    "• Telefone:\n",
    "1. Sentenças devem ter um dos formatos seguintes\n",
    "- (xx) 9xxxx-xxxx\n",
    "- (xx) 9xxxxxxxx\n",
    "- xx 9xxxxxxxx\n",
    "\n",
    "onde x N. ∈\n",
    "\n",
    "Ex. de sentenças aceitas: (91) 99999-9999, (91) 999999999, 91 999999999\n",
    "\n",
    "Ex. de cadeias rejeitadas: (91) 59999-9999, 99 99999-9999, (94)95555-5555"
   ]
  },
  {
   "cell_type": "code",
   "execution_count": 79,
   "metadata": {},
   "outputs": [
    {
     "name": "stdout",
     "output_type": "stream",
     "text": [
      "---------------\n",
      "Casos válidos:\n",
      "Cadeia \"(91) 99999-9999\" deve ser aceito. Foi aceito\n",
      "Cadeia \"(91) 999999999\" deve ser aceito. Foi aceito\n",
      "Cadeia \"91 999999999\" deve ser aceito. Foi aceito\n",
      "Cadeia \"(91) 59999-9999\" deve ser rejeitado. Foi rejeitado\n",
      "Cadeia \"99 99999-9999\" deve ser rejeitado. Foi rejeitado\n",
      "Cadeia \"(94)95555-5555\" deve ser rejeitado. Foi rejeitado\n",
      "\n",
      "Expressão válida\n"
     ]
    },
    {
     "data": {
      "text/plain": [
       "True"
      ]
     },
     "execution_count": 79,
     "metadata": {},
     "output_type": "execute_result"
    }
   ],
   "source": [
    "regex = r\"(\\(\\d\\d\\)\\s9[0-9]{4}-?[0-9]{4})|(\\d\\d\\s9[0-9]{8})\"\n",
    "aceitos = [\"(91) 99999-9999\", \"(91) 999999999\", \"91 999999999\"]\n",
    "rejeitados = [\"(91) 59999-9999\", \"99 99999-9999\", \"(94)95555-5555\"]\n",
    "testa_regex(regex, aceitos, rejeitados)"
   ]
  },
  {
   "cell_type": "markdown",
   "metadata": {},
   "source": [
    "• Data e horário:\n",
    "1. Sentenças devem ter o formato dd/mm/aaaa hh:mm:ss, onde d, m, a, h, m, s ∈ N.\n",
    "\n",
    "Ex. de sentenças aceitas: 31/08/2019 20:14:55, 99/99/9999 23:59:59\n",
    "\n",
    "Ex. de cadeias rejeitadas: 99/99/9999 3:9:9, 9/9/99 99:99:99, 99/99/999903:09:09"
   ]
  },
  {
   "cell_type": "code",
   "execution_count": 80,
   "metadata": {},
   "outputs": [
    {
     "name": "stdout",
     "output_type": "stream",
     "text": [
      "---------------\n",
      "Casos válidos:\n",
      "Cadeia \"31/08/2019 20:14:55\" deve ser aceito. Foi aceito\n",
      "Cadeia \"99/99/9999 23:59:59\" deve ser aceito. Foi aceito\n",
      "Cadeia \"99/99/9999 3:9:9\" deve ser rejeitado. Foi rejeitado\n",
      "Cadeia \"9/9/99 99:99:99\" deve ser rejeitado. Foi rejeitado\n",
      "Cadeia \"99/99/999903:09:09\" deve ser rejeitado. Foi rejeitado\n",
      "\n",
      "Expressão válida\n"
     ]
    },
    {
     "data": {
      "text/plain": [
       "True"
      ]
     },
     "execution_count": 80,
     "metadata": {},
     "output_type": "execute_result"
    }
   ],
   "source": [
    "regex = r\"\\d{2}\\/\\d{2}\\/\\d{4}\\s\\d{2}\\:\\d{2}\\:\\d{2}\"\n",
    "aceitos = [\"31/08/2019 20:14:55\", \"99/99/9999 23:59:59\"]\n",
    "rejeitados = [\"99/99/9999 3:9:9\", \"9/9/99 99:99:99\", \"99/99/999903:09:09\"]\n",
    "testa_regex(regex, aceitos, rejeitados)"
   ]
  },
  {
   "cell_type": "markdown",
   "metadata": {},
   "source": [
    "• Número real com ou sem sinal:\n",
    "1. Sentenças devem começar com um dos símbolos do alfabeto {+, -, ε}\n",
    "2. Em seguida, as sentenças devem ter, pelo menos, um símbolo do alfabeto N\n",
    "3. Em seguida, as sentenças devem ter, exatamente, um símbolo separador “.”\n",
    "4. Em seguida, as sentenças devem finalizar com, pelo menos, um símbolo de N\n",
    "5. Exceção: números sem a parte fracionária também devem ser aceitos\n",
    "\n",
    "Ex. de sentenças aceitas: -25.467, 1, -1, +1, 64.2\n",
    "\n",
    "Ex. de cadeias rejeitadas: 1., .2, +64,2"
   ]
  },
  {
   "cell_type": "code",
   "execution_count": 82,
   "metadata": {},
   "outputs": [
    {
     "name": "stdout",
     "output_type": "stream",
     "text": [
      "---------------\n",
      "Casos válidos:\n",
      "Cadeia \"-25.467\" deve ser aceito. Foi aceito\n",
      "Cadeia \"1\" deve ser aceito. Foi aceito\n",
      "Cadeia \"-1\" deve ser aceito. Foi aceito\n",
      "Cadeia \"+1\" deve ser aceito. Foi aceito\n",
      "Cadeia \"64.2\" deve ser aceito. Foi aceito\n",
      "Cadeia \"1.\" deve ser rejeitado. Foi rejeitado\n",
      "Cadeia \".2\" deve ser rejeitado. Foi rejeitado\n",
      "Cadeia \"+64,2\" deve ser rejeitado. Foi rejeitado\n",
      "\n",
      "Expressão válida\n"
     ]
    },
    {
     "data": {
      "text/plain": [
       "True"
      ]
     },
     "execution_count": 82,
     "metadata": {},
     "output_type": "execute_result"
    }
   ],
   "source": [
    "regex = r\"[+-]?[0-9]+(\\.?[0-9]+)?\"\n",
    "aceitos = ['-25.467', '1', '-1', '+1', '64.2']\n",
    "rejeitados = ['1.', '.2', '+64,2']\n",
    "testa_regex(regex, aceitos, rejeitados)"
   ]
  },
  {
   "cell_type": "markdown",
   "metadata": {},
   "source": [
    "# Questão 2"
   ]
  },
  {
   "cell_type": "markdown",
   "metadata": {},
   "source": [
    "[6.0 pontos] Implemente, na linguagem de programação de sua preferência, os arranjos\n",
    "familiares solicitados nos itens abaixo sobre o alfabeto Σ = {H, M, h, m}, com significado:\n",
    "- H representa um homem;\n",
    "- M representa uma mulher;\n",
    "- h representa um filho do sexo masculino (natural ou adotado);\n",
    "- m representa uma filha do sexo feminimo (natural ou adotado);\n",
    "\n",
    "A posição relativa de uma letra em relação às demais indica a idade relativa daquele\n",
    "membro da família em relação aos demais (os mais novos estão sempre à direita).\n",
    "Exemplo: a cadeia “MHhmm” representa uma família com um casal heterossexual em que a\n",
    "mulher é mais velha que o homem. Além disso, esse casal possui três filhos, um homem e\n",
    "duas mulheres, sendo que o filho homem é o mais velho dos três."
   ]
  },
  {
   "cell_type": "markdown",
   "metadata": {},
   "source": [
    "a) Casais heterossexuais mais velhos que os filhos com pelo menos duas filhas mulheres,\n",
    "ou pelo menos um filho homem, ou ainda pelo menos dois filhos homens e uma filha\n",
    "mulher"
   ]
  },
  {
   "cell_type": "code",
   "execution_count": null,
   "metadata": {},
   "outputs": [],
   "source": [
    "regex = r\"(MH|HM)[(m{2,})(h+)(h{2,}m)(mh{2,})]\""
   ]
  },
  {
   "cell_type": "markdown",
   "metadata": {},
   "source": [
    "b) Casais heterossexuais mais velhos que os filhos e com uma quantidade ímpar de filhas\n",
    "mulheres."
   ]
  },
  {
   "cell_type": "code",
   "execution_count": null,
   "metadata": {},
   "outputs": [],
   "source": [
    "regex = r\"(MH|HM)(mm)*m\""
   ]
  },
  {
   "cell_type": "markdown",
   "metadata": {},
   "source": [
    "c) Casais heterossexuais mais velhos que os filhos, com a filha mais velha mulher e o filho\n",
    "mais novo homem."
   ]
  },
  {
   "cell_type": "code",
   "execution_count": null,
   "metadata": {},
   "outputs": [],
   "source": [
    "regex = r\"(MH|HM)mh\""
   ]
  },
  {
   "cell_type": "markdown",
   "metadata": {},
   "source": [
    "d) Casais homossexuais mais velhos que os filhos, com pelo menos seis filhos, em que os\n",
    "dois primeiros filhos formam um casal e os últimos também."
   ]
  },
  {
   "cell_type": "code",
   "execution_count": null,
   "metadata": {},
   "outputs": [],
   "source": [
    "regex = r\"(MM|HH)(mh|hm)[mh]{2}(mh|hm)\""
   ]
  },
  {
   "cell_type": "markdown",
   "metadata": {},
   "source": [
    "e) Casais homossexuais mais velhos que os filhos, em que o sexo dos filhos é alternado\n",
    "conforme a ordem de nascimento."
   ]
  },
  {
   "cell_type": "code",
   "execution_count": null,
   "metadata": {},
   "outputs": [],
   "source": [
    "regex =r\"(MM|HH)((mh)*|(hm)*)\""
   ]
  },
  {
   "cell_type": "markdown",
   "metadata": {},
   "source": [
    "f) Casais homossexuais mais velhos que os filhos, com qualquer quantidade de filhos\n",
    "homens e mulheres, mas que não tiveram dois filhos homens consecutivos.\n"
   ]
  },
  {
   "cell_type": "code",
   "execution_count": null,
   "metadata": {},
   "outputs": [],
   "source": [
    "regex = r\"(MM|HH)((h?m+)|(m+h?))*\""
   ]
  },
  {
   "cell_type": "markdown",
   "metadata": {},
   "source": [
    "g) Arranjo de no mínimo x∈ℕ e no máximo y∈ℕ , com x>0 , y>0 , e x≤y , de\n",
    "adultos (Hs ou Ms) mais velhos que os filhos, com qualquer quantidade de filhos\n",
    "homens e mulheres, mas que os três filhos mais novos não foram homens."
   ]
  },
  {
   "cell_type": "code",
   "execution_count": null,
   "metadata": {},
   "outputs": [],
   "source": [
    "regex = r\"[MH]+([mh]*(m|(mh)|(mhh)))?\""
   ]
  }
 ],
 "metadata": {
  "kernelspec": {
   "display_name": ".venv",
   "language": "python",
   "name": "python3"
  },
  "language_info": {
   "codemirror_mode": {
    "name": "ipython",
    "version": 3
   },
   "file_extension": ".py",
   "mimetype": "text/x-python",
   "name": "python",
   "nbconvert_exporter": "python",
   "pygments_lexer": "ipython3",
   "version": "3.12.1"
  }
 },
 "nbformat": 4,
 "nbformat_minor": 2
}
